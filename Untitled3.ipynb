{
 "cells": [
  {
   "cell_type": "code",
   "execution_count": 7,
   "id": "64f653a0",
   "metadata": {},
   "outputs": [
    {
     "name": "stdout",
     "output_type": "stream",
     "text": [
      "C A L C U L A T O R\n",
      "enter the first number:5\n",
      "enter the second number:5\n",
      "\n",
      "1.Addition(+)\n",
      "2.Subtraction(-)\n",
      "3.Division(/)\n",
      "4.Multiplication(*)\n",
      "5.Exit\n",
      "\n",
      "Choose Operand:3\n",
      "Divided value is 1.0\n"
     ]
    }
   ],
   "source": [
    "def add(x,y):\n",
    "    return(x+y) \n",
    "\n",
    "def sub(x,y):\n",
    "    return(x-y)\n",
    "\n",
    "def mul(x,y):\n",
    "    return(x*y)\n",
    "\n",
    "def div(x,y):\n",
    "    return(x/y)\n",
    "\n",
    "    \n",
    "\n",
    "print(\"C A L C U L A T O R\")\n",
    "x=int(input(\"enter the first number:\"))\n",
    "y=int(input(\"enter the second number:\"))\n",
    "print(\"\\n1.Addition(+)\\n2.Subtraction(-)\\n3.Division(/)\\n4.Multiplication(*)\\n5.Exit\\n\")\n",
    "ch=int(input(\"Choose Operand:\"))\n",
    "if(ch==1):\n",
    "    a=add(x,y)\n",
    "    print(\"added value is\",a)\n",
    "elif(ch==2):\n",
    "    a=sub(x,y)\n",
    "    print(\"subtracted value is\",a)\n",
    "elif(ch==3):\n",
    "    a=div(x,y)\n",
    "    print(\"Divided value is\",a)\n",
    "elif(ch==4):\n",
    "    a=mul(x,y)\n",
    "    print(\"divided value is\",a)\n",
    "else:\n",
    "    print(\"invalid\")\n",
    "    \n",
    "  \n",
    "    \n",
    "    \n",
    "    \n",
    "\n",
    "    \n",
    "\n"
   ]
  },
  {
   "cell_type": "code",
   "execution_count": null,
   "id": "e003f7e4",
   "metadata": {},
   "outputs": [],
   "source": []
  }
 ],
 "metadata": {
  "kernelspec": {
   "display_name": "Python 3",
   "language": "python",
   "name": "python3"
  },
  "language_info": {
   "codemirror_mode": {
    "name": "ipython",
    "version": 3
   },
   "file_extension": ".py",
   "mimetype": "text/x-python",
   "name": "python",
   "nbconvert_exporter": "python",
   "pygments_lexer": "ipython3",
   "version": "3.8.8"
  }
 },
 "nbformat": 4,
 "nbformat_minor": 5
}
